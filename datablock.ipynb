{
 "cells": [
  {
   "cell_type": "code",
   "execution_count": 2,
   "metadata": {},
   "outputs": [],
   "source": [
    "#export\n",
    "from exp.nb_packages import *"
   ]
  },
  {
   "cell_type": "code",
   "execution_count": 6,
   "metadata": {},
   "outputs": [],
   "source": [
    "#export\n",
    "train = pd.read_csv('train_with_strat_folds.csv')\n",
    "DATA_PATH = Path('data')\n",
    "IMG_PATH = DATA_PATH / 'images'\n",
    "LABEL_COLS = ['healthy', 'multiple_diseases', 'rust', 'scab']\n",
    "\n",
    "def get_data(SEED, BS, IMG_SIZE, fold):\n",
    "    train_df_no_val = train.query(f'fold != {fold}')\n",
    "    train_df_just_val = train.query(f'fold == {fold}')\n",
    "\n",
    "    train_df_bal = pd.concat(\n",
    "        [train_df_no_val.query('label != \"multiple_diseases\"'), train_df_just_val] +\n",
    "        [train_df_no_val.query('label == \"multiple_diseases\"')] * 2\n",
    "    ).sample(frac=1.0, random_state=SEED).reset_index(drop=True)\n",
    "\n",
    "    datablock = DataBlock(\n",
    "        blocks=(ImageBlock, CategoryBlock(vocab=LABEL_COLS)),\n",
    "        getters=[\n",
    "            ColReader('image_id', pref=IMG_PATH, suff='.jpg'),\n",
    "            ColReader('label')\n",
    "        ],\n",
    "        splitter=IndexSplitter(train_df_bal.loc[train_df_bal.fold==fold].index),\n",
    "        item_tfms=Resize(IMG_SIZE),\n",
    "        batch_tfms=aug_transforms(size=IMG_SIZE, max_rotate=30., min_scale=0.75, flip_vert=True, do_flip=True)\n",
    "    )\n",
    "    return datablock.dataloaders(source=train_df_bal, bs=BS)"
   ]
  },
  {
   "cell_type": "code",
   "execution_count": null,
   "metadata": {},
   "outputs": [],
   "source": []
  }
 ],
 "metadata": {
  "kernelspec": {
   "display_name": "fastai2",
   "language": "python",
   "name": "fastai2"
  },
  "language_info": {
   "codemirror_mode": {
    "name": "ipython",
    "version": 3
   },
   "file_extension": ".py",
   "mimetype": "text/x-python",
   "name": "python",
   "nbconvert_exporter": "python",
   "pygments_lexer": "ipython3",
   "version": "3.7.7"
  }
 },
 "nbformat": 4,
 "nbformat_minor": 4
}
