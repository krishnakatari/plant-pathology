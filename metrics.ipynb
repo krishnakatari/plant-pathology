{
 "cells": [
  {
   "cell_type": "code",
   "execution_count": null,
   "metadata": {},
   "outputs": [],
   "source": [
    "#export\n",
    "from exp.nb_packages import *"
   ]
  },
  {
   "cell_type": "code",
   "execution_count": 4,
   "metadata": {},
   "outputs": [],
   "source": [
    "#export\n",
    "LABEL_COLS = ['healthy', 'multiple_diseases', 'rust', 'scab']\n",
    "def comp_metric(preds, targs, labels=range(len(LABEL_COLS))):\n",
    "    # One-hot encode targets\n",
    "    targs = np.eye(4)[targs]\n",
    "    return np.mean([roc_auc_score(targs[:,i], preds[:,i]) for i in labels])\n",
    "\n",
    "def healthy_roc_auc(*args):\n",
    "    return comp_metric(*args, labels=[0])\n",
    "\n",
    "def multiple_diseases_roc_auc(*args):\n",
    "    return comp_metric(*args, labels=[1])\n",
    "\n",
    "def rust_roc_auc(*args):\n",
    "    return comp_metric(*args, labels=[2])\n",
    "\n",
    "def scab_roc_auc(*args):\n",
    "    return comp_metric(*args, labels=[3])"
   ]
  },
  {
   "cell_type": "code",
   "execution_count": 5,
   "metadata": {},
   "outputs": [],
   "source": [
    "#export\n",
    "def print_metrics(val_preds, val_labels):\n",
    "    comp_metric_fold = comp_metric(val_preds, val_labels)\n",
    "    print(f'Comp metric: {comp_metric_fold}')\n",
    "    \n",
    "    healthy_roc_auc_metric = healthy_roc_auc(val_preds, val_labels)\n",
    "    print(f'Healthy metric: {healthy_roc_auc_metric}')\n",
    "    \n",
    "    multiple_diseases_roc_auc_metric = multiple_diseases_roc_auc(val_preds, val_labels)\n",
    "    print(f'Multi disease: {multiple_diseases_roc_auc_metric}')\n",
    "    \n",
    "    rust_roc_auc_metric = rust_roc_auc(val_preds, val_labels)\n",
    "    print(f'Rust metric: {rust_roc_auc_metric}')\n",
    "    \n",
    "    scab_roc_auc_metric = scab_roc_auc(val_preds, val_labels)\n",
    "    print(f'Scab metric: {scab_roc_auc_metric}')"
   ]
  },
  {
   "cell_type": "code",
   "execution_count": null,
   "metadata": {},
   "outputs": [],
   "source": []
  }
 ],
 "metadata": {
  "kernelspec": {
   "display_name": "fastai2",
   "language": "python",
   "name": "fastai2"
  },
  "language_info": {
   "codemirror_mode": {
    "name": "ipython",
    "version": 3
   },
   "file_extension": ".py",
   "mimetype": "text/x-python",
   "name": "python",
   "nbconvert_exporter": "python",
   "pygments_lexer": "ipython3",
   "version": "3.7.7"
  }
 },
 "nbformat": 4,
 "nbformat_minor": 4
}
