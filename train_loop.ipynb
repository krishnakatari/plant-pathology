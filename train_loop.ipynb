{
 "cells": [
  {
   "cell_type": "code",
   "execution_count": null,
   "metadata": {},
   "outputs": [],
   "source": [
    "#export\n",
    "from exp.nb_packages import *"
   ]
  },
  {
   "cell_type": "code",
   "execution_count": 7,
   "metadata": {},
   "outputs": [],
   "source": [
    "#export\n",
    "def train(get_learner, N_FOLDS, prefix_name):\n",
    "    all_val_preds = []\n",
    "    all_val_labels = []\n",
    "    all_test_preds = []\n",
    "\n",
    "    for i in range(N_FOLDS):\n",
    "\n",
    "        learn = get_learner(i)\n",
    "\n",
    "        learn.fit_one_cycle(4)\n",
    "        learn.unfreeze()\n",
    "\n",
    "        learn.fit_one_cycle(12, slice(1e-5, 1e-4))\n",
    "\n",
    "        learn.recorder.plot_loss()\n",
    "\n",
    "        learn.save(prefix_name + '_' + str(i))"
   ]
  },
  {
   "cell_type": "code",
   "execution_count": 8,
   "metadata": {},
   "outputs": [],
   "source": [
    "#export\n",
    "def validate(get_learner, N_FOLDS, prefix_name):\n",
    "    all_val_preds = []\n",
    "    all_val_labels = []\n",
    "    for i in range(N_FOLDS):\n",
    "        learn = get_learner(i)\n",
    "        learn.load(prefix_name + '_' + str(i))\n",
    "        val_preds, val_labels = learn.get_preds()\n",
    "\n",
    "        all_val_preds.append(val_preds)\n",
    "        all_val_labels.append(val_labels)\n",
    "    return all_val_preds, all_val_labels"
   ]
  },
  {
   "cell_type": "code",
   "execution_count": 9,
   "metadata": {},
   "outputs": [],
   "source": [
    "#export\n",
    "def test(dls, test_df, get_learner, N_FOLDS, prefix_name):\n",
    "    all_test_preds = []\n",
    "    for i in range(N_FOLDS):\n",
    "        learn = get_learner(i)\n",
    "        learn.load(prefix_name + '_' + str(i))\n",
    "        test_dl = dls.test_dl(test_df)\n",
    "        test_preds, _ = learn.get_preds(dl=test_dl)\n",
    "        all_test_preds.append(test_preds)\n",
    "    return all_test_preds"
   ]
  },
  {
   "cell_type": "code",
   "execution_count": null,
   "metadata": {},
   "outputs": [],
   "source": []
  }
 ],
 "metadata": {
  "kernelspec": {
   "display_name": "fastai2",
   "language": "python",
   "name": "fastai2"
  },
  "language_info": {
   "codemirror_mode": {
    "name": "ipython",
    "version": 3
   },
   "file_extension": ".py",
   "mimetype": "text/x-python",
   "name": "python",
   "nbconvert_exporter": "python",
   "pygments_lexer": "ipython3",
   "version": "3.7.7"
  }
 },
 "nbformat": 4,
 "nbformat_minor": 4
}
